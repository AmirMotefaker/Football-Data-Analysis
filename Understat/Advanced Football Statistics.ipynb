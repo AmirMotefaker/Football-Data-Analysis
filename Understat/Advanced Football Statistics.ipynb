{
 "cells": [
  {
   "cell_type": "markdown",
   "id": "0fdb278b",
   "metadata": {},
   "source": [
    "Web Scraping Advanced Football Statistics - Understat"
   ]
  },
  {
   "cell_type": "code",
   "execution_count": 1,
   "id": "b68b5596",
   "metadata": {},
   "outputs": [],
   "source": [
    "import numpy as np # linear algebra\n",
    "import pandas as pd # data processing, CSV file I/O (e.g. pd.read_csv)\n",
    "import requests\n",
    "from bs4 import BeautifulSoup"
   ]
  },
  {
   "cell_type": "code",
   "execution_count": 2,
   "id": "c60a4bca",
   "metadata": {},
   "outputs": [],
   "source": [
    "# create urls for all seasons of all leagues\n",
    "base_url = 'https://understat.com/league'\n",
    "leagues = ['La_liga', 'EPL', 'Bundesliga', 'Serie_A', 'Ligue_1', 'RFPL']\n",
    "seasons = ['2014', '2015', '2016', '2017', '2018', '2019', '2020', '2021']"
   ]
  },
  {
   "cell_type": "code",
   "execution_count": 3,
   "id": "2347664c",
   "metadata": {},
   "outputs": [],
   "source": [
    "# Starting with latest data for Spanish league, because I'm a Barcelona fan\n",
    "url = base_url+'/'+leagues[0]+'/'+seasons[4]\n",
    "res = requests.get(url)\n",
    "soup = BeautifulSoup(res.content, \"lxml\")\n",
    "\n",
    "# Based on the structure of the webpage, I found that data is in the JSON variable, under <script> tags\n",
    "scripts = soup.find_all('script')\n",
    "\n",
    "# Check our <script> tags\n",
    "# for el in scripts:\n",
    "#   print('*'*50)\n",
    "#   print(el.text)"
   ]
  }
 ],
 "metadata": {
  "kernelspec": {
   "display_name": "Python 3 (ipykernel)",
   "language": "python",
   "name": "python3"
  },
  "language_info": {
   "codemirror_mode": {
    "name": "ipython",
    "version": 3
   },
   "file_extension": ".py",
   "mimetype": "text/x-python",
   "name": "python",
   "nbconvert_exporter": "python",
   "pygments_lexer": "ipython3",
   "version": "3.9.12"
  }
 },
 "nbformat": 4,
 "nbformat_minor": 5
}
