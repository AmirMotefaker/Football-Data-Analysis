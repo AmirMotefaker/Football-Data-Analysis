{
 "cells": [
  {
   "cell_type": "markdown",
   "id": "e4b8c8c5",
   "metadata": {},
   "source": [
    "Web Scraping Advanced Football Statistics - Understat"
   ]
  },
  {
   "cell_type": "code",
   "execution_count": 1,
   "id": "66e167c8",
   "metadata": {},
   "outputs": [],
   "source": [
    "import numpy as np # linear algebra\n",
    "import pandas as pd # data processing, CSV file I/O (e.g. pd.read_csv)\n",
    "import requests\n",
    "from bs4 import BeautifulSoup"
   ]
  }
 ],
 "metadata": {
  "kernelspec": {
   "display_name": "Python 3 (ipykernel)",
   "language": "python",
   "name": "python3"
  },
  "language_info": {
   "codemirror_mode": {
    "name": "ipython",
    "version": 3
   },
   "file_extension": ".py",
   "mimetype": "text/x-python",
   "name": "python",
   "nbconvert_exporter": "python",
   "pygments_lexer": "ipython3",
   "version": "3.9.12"
  }
 },
 "nbformat": 4,
 "nbformat_minor": 5
}
