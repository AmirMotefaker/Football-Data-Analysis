{
 "cells": [
  {
   "cell_type": "markdown",
   "id": "076b1c44",
   "metadata": {},
   "source": [
    "Web Scraping Advanced Football Statistics - Understat"
   ]
  },
  {
   "cell_type": "code",
   "execution_count": 1,
   "id": "5d8c1ee7",
   "metadata": {},
   "outputs": [],
   "source": [
    "import numpy as np # linear algebra\n",
    "import pandas as pd # data processing, CSV file I/O (e.g. pd.read_csv)\n",
    "import requests\n",
    "from bs4 import BeautifulSoup"
   ]
  },
  {
   "cell_type": "code",
   "execution_count": 2,
   "id": "ac79851b",
   "metadata": {},
   "outputs": [],
   "source": [
    "# create urls for all seasons of all leagues\n",
    "base_url = 'https://understat.com/league'\n",
    "leagues = ['La_liga', 'EPL', 'Bundesliga', 'Serie_A', 'Ligue_1', 'RFPL']\n",
    "seasons = ['2014', '2015', '2016', '2017', '2018', '2019', '2020', '2021']"
   ]
  },
  {
   "cell_type": "code",
   "execution_count": 3,
   "id": "6ed47a1b",
   "metadata": {},
   "outputs": [],
   "source": [
    "# Starting with latest data for Spanish league, because I'm a Barcelona fan\n",
    "url = base_url+'/'+leagues[0]+'/'+seasons[4]\n",
    "res = requests.get(url)\n",
    "soup = BeautifulSoup(res.content, \"lxml\")\n",
    "\n",
    "# Based on the structure of the webpage, I found that data is in the JSON variable, under <script> tags\n",
    "scripts = soup.find_all('script')\n",
    "\n",
    "# Check our <script> tags\n",
    "# for el in scripts:\n",
    "#   print('*'*50)\n",
    "#   print(el.text)"
   ]
  },
  {
   "cell_type": "code",
   "execution_count": 4,
   "id": "7b78e137",
   "metadata": {},
   "outputs": [],
   "source": [
    "import json\n",
    "\n",
    "string_with_json_obj = ''\n",
    "\n",
    "# Find data for teams\n",
    "for el in scripts:\n",
    "    if 'teamsData' in str(el):\n",
    "        string_with_json_obj = str(el).strip()\n",
    "      \n",
    "# print(string_with_json_obj)\n",
    "\n",
    "# strip unnecessary symbols and get only JSON data\n",
    "ind_start = string_with_json_obj.index(\"('\")+2\n",
    "ind_end = string_with_json_obj.index(\"')\")\n",
    "json_data = string_with_json_obj[ind_start:ind_end]\n",
    "\n",
    "json_data = json_data.encode('utf8').decode('unicode_escape')"
   ]
  },
  {
   "cell_type": "code",
   "execution_count": 5,
   "id": "1214dd41",
   "metadata": {},
   "outputs": [
    {
     "name": "stdout",
     "output_type": "stream",
     "text": [
      "dict_keys(['138', '140', '141', '142', '143', '145', '146', '147', '148', '150', '151', '152', '153', '154', '156', '158', '159', '223', '231', '232'])\n",
      "==================================================\n",
      "dict_keys(['id', 'title', 'history'])\n",
      "==================================================\n",
      "138\n",
      "==================================================\n",
      "Sevilla\n",
      "==================================================\n",
      "{'h_a': 'a', 'xG': 3.34997, 'xGA': 2.39239, 'npxG': 3.34997, 'npxGA': 1.64976, 'ppda': {'att': 252, 'def': 19}, 'ppda_allowed': {'att': 263, 'def': 20}, 'deep': 12, 'deep_allowed': 5, 'scored': 4, 'missed': 1, 'xpts': 1.9829999999999999, 'result': 'w', 'date': '2018-08-19 21:15:00', 'wins': 1, 'draws': 0, 'loses': 0, 'pts': 3, 'npxGD': 1.70021}\n"
     ]
    }
   ],
   "source": [
    "# convert JSON data into Python dictionary\n",
    "data = json.loads(json_data)\n",
    "print(data.keys())\n",
    "print('='*50)\n",
    "print(data['138'].keys())\n",
    "print('='*50)\n",
    "print(data['138']['id'])\n",
    "print('='*50)\n",
    "print(data['138']['title'])\n",
    "print('='*50)\n",
    "print(data['138']['history'][0])\n",
    "\n",
    "# Print pretty JSON data to check out what we have there\n",
    "# s = json.dumps(data, indent=4, sort_keys=True)\n",
    "# print(s)"
   ]
  },
  {
   "cell_type": "code",
   "execution_count": 6,
   "id": "b3c41466",
   "metadata": {},
   "outputs": [],
   "source": [
    "# Get teams and their relevant ids and put them into separate dictionary\n",
    "teams = {}\n",
    "for id in data.keys():\n",
    "  teams[id] = data[id]['title']"
   ]
  }
 ],
 "metadata": {
  "kernelspec": {
   "display_name": "Python 3 (ipykernel)",
   "language": "python",
   "name": "python3"
  },
  "language_info": {
   "codemirror_mode": {
    "name": "ipython",
    "version": 3
   },
   "file_extension": ".py",
   "mimetype": "text/x-python",
   "name": "python",
   "nbconvert_exporter": "python",
   "pygments_lexer": "ipython3",
   "version": "3.9.12"
  }
 },
 "nbformat": 4,
 "nbformat_minor": 5
}
