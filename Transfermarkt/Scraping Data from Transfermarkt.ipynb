{
 "cells": [
  {
   "cell_type": "markdown",
   "id": "8b752ba9",
   "metadata": {},
   "source": [
    "##### Scraping Data from Transfermarkt"
   ]
  },
  {
   "cell_type": "code",
   "execution_count": 1,
   "id": "645906cc",
   "metadata": {},
   "outputs": [],
   "source": [
    "from bs4 import BeautifulSoup\n",
    "import requests\n",
    "import pandas as pd"
   ]
  }
 ],
 "metadata": {
  "kernelspec": {
   "display_name": "Python 3 (ipykernel)",
   "language": "python",
   "name": "python3"
  },
  "language_info": {
   "codemirror_mode": {
    "name": "ipython",
    "version": 3
   },
   "file_extension": ".py",
   "mimetype": "text/x-python",
   "name": "python",
   "nbconvert_exporter": "python",
   "pygments_lexer": "ipython3",
   "version": "3.9.12"
  }
 },
 "nbformat": 4,
 "nbformat_minor": 5
}
