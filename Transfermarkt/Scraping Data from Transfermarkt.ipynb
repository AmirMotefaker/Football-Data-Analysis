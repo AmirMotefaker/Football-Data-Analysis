{
 "cells": [
  {
   "cell_type": "markdown",
   "id": "aada1445",
   "metadata": {},
   "source": [
    "##### Scraping Data from Transfermarkt"
   ]
  },
  {
   "cell_type": "code",
   "execution_count": 1,
   "id": "1834a054",
   "metadata": {},
   "outputs": [
    {
     "name": "stdout",
     "output_type": "stream",
     "text": [
      "200\n"
     ]
    }
   ],
   "source": [
    "from bs4 import BeautifulSoup\n",
    "import requests\n",
    "import pandas as pd\n",
    "\n",
    "url = 'https://www.transfermarkt.com/premier-league/transfers/wettbewerb/GB1/plus/?saison_id=2018&s_w=&leihe=0&leihe=1&intern=0&intern=1'\n",
    "\n",
    "response = requests.get(url, headers={'User-Agent': 'Custom5'})\n",
    "print(response.status_code)\n",
    "financial_data = response.text\n",
    "soup = BeautifulSoup(financial_data, 'html.parser')"
   ]
  },
  {
   "cell_type": "code",
   "execution_count": 2,
   "id": "cade5336",
   "metadata": {},
   "outputs": [],
   "source": [
    "years_url = list(range(2004, 2022))"
   ]
  },
  {
   "cell_type": "code",
   "execution_count": 5,
   "id": "ac44930f",
   "metadata": {},
   "outputs": [
    {
     "name": "stdout",
     "output_type": "stream",
     "text": [
      "158687000.0\n",
      "212354000.0\n",
      "226037750.0\n",
      "420719020.0\n",
      "474445650.0\n",
      "462061300.0\n",
      "304776050.0\n",
      "380166170.0\n",
      "331551700.0\n",
      "361573827.03000003\n",
      "595591916.0\n",
      "622204340.0\n",
      "775962520.0\n",
      "1195899230.0\n",
      "513997055.09000003\n",
      "831185240.0\n",
      "405041821.3\n",
      "702499250.0\n"
     ]
    }
   ],
   "source": [
    "income_list = []\n",
    "income_per_club_list = []\n",
    "income_per_player_list = []\n",
    "year_list = []\n",
    "\n",
    "for year_url in years_url:\n",
    "\n",
    "    url = 'https://www.transfermarkt.com/premier-league/transfers/wettbewerb/GB1/plus/?saison_id=' + str(year_url) + '&s_w=&leihe=0&leihe=1&intern=0&intern=1'\n",
    "\n",
    "    response = requests.get(url, headers={'User-Agent': 'Custom5'})\n",
    "    # print(response.status_code)\n",
    "    financial_data = response.text\n",
    "    soup = BeautifulSoup(financial_data, 'html.parser')\n",
    "\n",
    "    grouped_data = soup.find('div', {'class': 'transferbilanz'})\n",
    "\n",
    "    income = float(grouped_data.find_all('span', {'class': 'greentext'})[0].text.replace('€','').replace(',','')) * 0.89\n",
    "    print(income)\n",
    "    income_per_club = float(grouped_data.find_all('span', {'class': 'greentext'})[1].text.replace('€','').replace(',','')) * 0.89\n",
    "    income_per_player = float(grouped_data.find_all('span', {'class': 'greentext'})[2].text.replace('€','').replace(',','')) * 0.89\n",
    "    year = year_url\n",
    "\n",
    "    income_list.append(income)\n",
    "    income_per_club_list.append(income_per_club)\n",
    "    income_per_player_list.append(income_per_player)\n",
    "    year_list.append(year)"
   ]
  },
  {
   "cell_type": "code",
   "execution_count": 6,
   "id": "74ab517b",
   "metadata": {},
   "outputs": [],
   "source": [
    "finance_df = pd.DataFrame({'Year': year_list,\n",
    "                           'Income': income_list,\n",
    "                           'Income_per_club': income_per_club_list,\n",
    "                           'Income_per_player': income_per_player_list\n",
    "                            })\n",
    "\n",
    "finance_df.to_csv('Income_euro_to_pounds.csv', index=False)"
   ]
  }
 ],
 "metadata": {
  "kernelspec": {
   "display_name": "Python 3 (ipykernel)",
   "language": "python",
   "name": "python3"
  },
  "language_info": {
   "codemirror_mode": {
    "name": "ipython",
    "version": 3
   },
   "file_extension": ".py",
   "mimetype": "text/x-python",
   "name": "python",
   "nbconvert_exporter": "python",
   "pygments_lexer": "ipython3",
   "version": "3.9.12"
  }
 },
 "nbformat": 4,
 "nbformat_minor": 5
}
