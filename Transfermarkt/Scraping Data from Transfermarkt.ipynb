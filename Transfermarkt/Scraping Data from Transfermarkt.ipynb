{
 "cells": [
  {
   "cell_type": "markdown",
   "id": "9a359895",
   "metadata": {},
   "source": [
    "##### Scraping Data from Transfermarkt"
   ]
  },
  {
   "cell_type": "code",
   "execution_count": 1,
   "id": "75ff4e29",
   "metadata": {},
   "outputs": [
    {
     "name": "stdout",
     "output_type": "stream",
     "text": [
      "200\n"
     ]
    }
   ],
   "source": [
    "from bs4 import BeautifulSoup\n",
    "import requests\n",
    "import pandas as pd\n",
    "\n",
    "url = 'https://www.transfermarkt.com/premier-league/transfers/wettbewerb/GB1/plus/?saison_id=2018&s_w=&leihe=0&leihe=1&intern=0&intern=1'\n",
    "\n",
    "response = requests.get(url, headers={'User-Agent': 'Custom5'})\n",
    "print(response.status_code)\n",
    "financial_data = response.text\n",
    "soup = BeautifulSoup(financial_data, 'html.parser')"
   ]
  }
 ],
 "metadata": {
  "kernelspec": {
   "display_name": "Python 3 (ipykernel)",
   "language": "python",
   "name": "python3"
  },
  "language_info": {
   "codemirror_mode": {
    "name": "ipython",
    "version": 3
   },
   "file_extension": ".py",
   "mimetype": "text/x-python",
   "name": "python",
   "nbconvert_exporter": "python",
   "pygments_lexer": "ipython3",
   "version": "3.9.12"
  }
 },
 "nbformat": 4,
 "nbformat_minor": 5
}
