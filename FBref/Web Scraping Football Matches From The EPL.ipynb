{
 "cells": [
  {
   "cell_type": "markdown",
   "id": "42b6d7f2",
   "metadata": {},
   "source": [
    "Web Scraping Football Matches From The EPL"
   ]
  },
  {
   "cell_type": "code",
   "execution_count": 1,
   "id": "2570b505",
   "metadata": {},
   "outputs": [],
   "source": [
    "import requests\n",
    "from bs4 import BeautifulSoup\n",
    "import pandas as pd"
   ]
  },
  {
   "cell_type": "code",
   "execution_count": 2,
   "id": "bda214b9",
   "metadata": {},
   "outputs": [],
   "source": [
    "standings_url = \"https://fbref.com/en/comps/9/Premier-League-Stats\""
   ]
  },
  {
   "cell_type": "code",
   "execution_count": 3,
   "id": "cae95b22",
   "metadata": {},
   "outputs": [],
   "source": [
    "data = requests.get(standings_url)"
   ]
  },
  {
   "cell_type": "code",
   "execution_count": 4,
   "id": "8b9fbc40",
   "metadata": {},
   "outputs": [],
   "source": [
    "soup = BeautifulSoup(data.text)"
   ]
  },
  {
   "cell_type": "code",
   "execution_count": 5,
   "id": "7cb62cd4",
   "metadata": {},
   "outputs": [],
   "source": [
    "standings_table = soup.select('table.stats_table')[0]"
   ]
  },
  {
   "cell_type": "code",
   "execution_count": 6,
   "id": "457c2cf4",
   "metadata": {},
   "outputs": [],
   "source": [
    "links = standings_table.find_all('a')"
   ]
  },
  {
   "cell_type": "code",
   "execution_count": 7,
   "id": "614e8d8d",
   "metadata": {},
   "outputs": [],
   "source": [
    "links = [l.get(\"href\") for l in links]"
   ]
  },
  {
   "cell_type": "code",
   "execution_count": 8,
   "id": "38396ba9",
   "metadata": {},
   "outputs": [],
   "source": [
    "links = [l for l in links if '/squads/' in l]"
   ]
  },
  {
   "cell_type": "code",
   "execution_count": 9,
   "id": "0cae8167",
   "metadata": {},
   "outputs": [
    {
     "data": {
      "text/plain": [
       "['/en/squads/18bb7c10/Arsenal-Stats',\n",
       " '/en/squads/b8fd03ef/Manchester-City-Stats',\n",
       " '/en/squads/b2b47a98/Newcastle-United-Stats',\n",
       " '/en/squads/361ca564/Tottenham-Hotspur-Stats',\n",
       " '/en/squads/19538871/Manchester-United-Stats',\n",
       " '/en/squads/822bd0ba/Liverpool-Stats',\n",
       " '/en/squads/d07537b9/Brighton-and-Hove-Albion-Stats',\n",
       " '/en/squads/cff3d9bb/Chelsea-Stats',\n",
       " '/en/squads/fd962109/Fulham-Stats',\n",
       " '/en/squads/cd051869/Brentford-Stats',\n",
       " '/en/squads/47c64c55/Crystal-Palace-Stats',\n",
       " '/en/squads/8602292d/Aston-Villa-Stats',\n",
       " '/en/squads/a2d435b3/Leicester-City-Stats',\n",
       " '/en/squads/4ba7cbea/Bournemouth-Stats',\n",
       " '/en/squads/5bfb9659/Leeds-United-Stats',\n",
       " '/en/squads/7c21e445/West-Ham-United-Stats',\n",
       " '/en/squads/d3fd31cc/Everton-Stats',\n",
       " '/en/squads/e4a775cb/Nottingham-Forest-Stats',\n",
       " '/en/squads/33c895d4/Southampton-Stats',\n",
       " '/en/squads/8cec06e1/Wolverhampton-Wanderers-Stats']"
      ]
     },
     "execution_count": 9,
     "metadata": {},
     "output_type": "execute_result"
    }
   ],
   "source": [
    "links"
   ]
  },
  {
   "cell_type": "code",
   "execution_count": 10,
   "id": "fd9925e0",
   "metadata": {},
   "outputs": [],
   "source": [
    "team_urls = [f\"https://fbref.com{l}\" for l in links]"
   ]
  },
  {
   "cell_type": "code",
   "execution_count": 11,
   "id": "94f68a0a",
   "metadata": {
    "scrolled": true
   },
   "outputs": [
    {
     "data": {
      "text/plain": [
       "['https://fbref.com/en/squads/18bb7c10/Arsenal-Stats',\n",
       " 'https://fbref.com/en/squads/b8fd03ef/Manchester-City-Stats',\n",
       " 'https://fbref.com/en/squads/b2b47a98/Newcastle-United-Stats',\n",
       " 'https://fbref.com/en/squads/361ca564/Tottenham-Hotspur-Stats',\n",
       " 'https://fbref.com/en/squads/19538871/Manchester-United-Stats',\n",
       " 'https://fbref.com/en/squads/822bd0ba/Liverpool-Stats',\n",
       " 'https://fbref.com/en/squads/d07537b9/Brighton-and-Hove-Albion-Stats',\n",
       " 'https://fbref.com/en/squads/cff3d9bb/Chelsea-Stats',\n",
       " 'https://fbref.com/en/squads/fd962109/Fulham-Stats',\n",
       " 'https://fbref.com/en/squads/cd051869/Brentford-Stats',\n",
       " 'https://fbref.com/en/squads/47c64c55/Crystal-Palace-Stats',\n",
       " 'https://fbref.com/en/squads/8602292d/Aston-Villa-Stats',\n",
       " 'https://fbref.com/en/squads/a2d435b3/Leicester-City-Stats',\n",
       " 'https://fbref.com/en/squads/4ba7cbea/Bournemouth-Stats',\n",
       " 'https://fbref.com/en/squads/5bfb9659/Leeds-United-Stats',\n",
       " 'https://fbref.com/en/squads/7c21e445/West-Ham-United-Stats',\n",
       " 'https://fbref.com/en/squads/d3fd31cc/Everton-Stats',\n",
       " 'https://fbref.com/en/squads/e4a775cb/Nottingham-Forest-Stats',\n",
       " 'https://fbref.com/en/squads/33c895d4/Southampton-Stats',\n",
       " 'https://fbref.com/en/squads/8cec06e1/Wolverhampton-Wanderers-Stats']"
      ]
     },
     "execution_count": 11,
     "metadata": {},
     "output_type": "execute_result"
    }
   ],
   "source": [
    "team_urls"
   ]
  },
  {
   "cell_type": "code",
   "execution_count": 12,
   "id": "ba286a39",
   "metadata": {},
   "outputs": [],
   "source": [
    "team_url = team_urls[0]"
   ]
  },
  {
   "cell_type": "code",
   "execution_count": 13,
   "id": "8bfeb1bc",
   "metadata": {},
   "outputs": [],
   "source": [
    "data = requests.get(team_url)"
   ]
  },
  {
   "cell_type": "code",
   "execution_count": 14,
   "id": "45d9b250",
   "metadata": {},
   "outputs": [],
   "source": [
    "matches = pd.read_html(data.text, match=\"Scores & Fixtures\")"
   ]
  },
  {
   "cell_type": "code",
   "execution_count": 15,
   "id": "47f1f5f7",
   "metadata": {},
   "outputs": [
    {
     "data": {
      "text/plain": [
       "[          Date   Time            Comp               Round  Day Venue Result  \\\n",
       " 0   2022-08-05  20:00  Premier League         Matchweek 1  Fri  Away      W   \n",
       " 1   2022-08-13  15:00  Premier League         Matchweek 2  Sat  Home      W   \n",
       " 2   2022-08-20  17:30  Premier League         Matchweek 3  Sat  Away      W   \n",
       " 3   2022-08-27  17:30  Premier League         Matchweek 4  Sat  Home      W   \n",
       " 4   2022-08-31  19:30  Premier League         Matchweek 5  Wed  Home      W   \n",
       " 5   2022-09-04  16:30  Premier League         Matchweek 6  Sun  Away      L   \n",
       " 6   2022-09-08  18:45       Europa Lg         Group stage  Thu  Away      W   \n",
       " 7   2022-09-11  14:00  Premier League         Matchweek 7  Sun  Home    NaN   \n",
       " 8   2022-09-18  12:00  Premier League         Matchweek 8  Sun  Away      W   \n",
       " 9   2022-10-01  12:30  Premier League         Matchweek 9  Sat  Home      W   \n",
       " 10  2022-10-06  20:00       Europa Lg         Group stage  Thu  Home      W   \n",
       " 11  2022-10-09  16:30  Premier League        Matchweek 10  Sun  Home      W   \n",
       " 12  2022-10-13  18:45       Europa Lg         Group stage  Thu  Away      W   \n",
       " 13  2022-10-16  14:00  Premier League        Matchweek 11  Sun  Away      W   \n",
       " 14  2022-10-20  18:00       Europa Lg         Group stage  Thu  Home      W   \n",
       " 15  2022-10-23  14:00  Premier League        Matchweek 13  Sun  Away      D   \n",
       " 16  2022-10-27  18:45       Europa Lg         Group stage  Thu  Away      L   \n",
       " 17  2022-10-30  14:00  Premier League        Matchweek 14  Sun  Home      W   \n",
       " 18  2022-11-03  20:00       Europa Lg         Group stage  Thu  Home      W   \n",
       " 19  2022-11-06  12:00  Premier League        Matchweek 15  Sun  Away      W   \n",
       " 20  2022-11-09  19:45         EFL Cup         Third round  Wed  Home      L   \n",
       " 21  2022-11-12  19:45  Premier League        Matchweek 16  Sat  Away      W   \n",
       " 22  2022-12-26  20:00  Premier League        Matchweek 17  Mon  Home    NaN   \n",
       " 23  2022-12-31  17:30  Premier League        Matchweek 18  Sat  Away    NaN   \n",
       " 24  2023-01-03  19:45  Premier League        Matchweek 19  Tue  Home    NaN   \n",
       " 25  2023-01-09  20:00          FA Cup  Third round proper  Mon  Away    NaN   \n",
       " 26  2023-01-15  16:30  Premier League        Matchweek 20  Sun  Away    NaN   \n",
       " 27  2023-01-22  16:30  Premier League        Matchweek 21  Sun  Home    NaN   \n",
       " 28  2023-02-04  12:30  Premier League        Matchweek 22  Sat  Away    NaN   \n",
       " 29  2023-02-11  15:00  Premier League        Matchweek 23  Sat  Home    NaN   \n",
       " 30  2023-02-15  19:30  Premier League        Matchweek 12  Wed  Home    NaN   \n",
       " 31  2023-02-18  12:30  Premier League        Matchweek 24  Sat  Away    NaN   \n",
       " 32  2023-02-25  15:00  Premier League        Matchweek 25  Sat  Away    NaN   \n",
       " 33  2023-03-04  15:00  Premier League        Matchweek 26  Sat  Home    NaN   \n",
       " 34  2023-03-11  15:00  Premier League        Matchweek 27  Sat  Away    NaN   \n",
       " 35  2023-03-18  15:00  Premier League        Matchweek 28  Sat  Home    NaN   \n",
       " 36  2023-04-01  15:00  Premier League        Matchweek 29  Sat  Home    NaN   \n",
       " 37  2023-04-08  15:00  Premier League        Matchweek 30  Sat  Away    NaN   \n",
       " 38  2023-04-15  15:00  Premier League        Matchweek 31  Sat  Away    NaN   \n",
       " 39  2023-04-22  15:00  Premier League        Matchweek 32  Sat  Home    NaN   \n",
       " 40  2023-04-26  20:00  Premier League        Matchweek 33  Wed  Away    NaN   \n",
       " 41  2023-04-29  15:00  Premier League        Matchweek 34  Sat  Home    NaN   \n",
       " 42  2023-05-06  15:00  Premier League        Matchweek 35  Sat  Away    NaN   \n",
       " 43  2023-05-13  15:00  Premier League        Matchweek 36  Sat  Home    NaN   \n",
       " 44  2023-05-20  15:00  Premier League        Matchweek 37  Sat  Away    NaN   \n",
       " 45  2023-05-28  15:00  Premier League        Matchweek 38  Sun  Home    NaN   \n",
       " \n",
       "      GF   GA          Opponent   xG  xGA  Poss  Attendance          Captain  \\\n",
       " 0   2.0  0.0    Crystal Palace  1.0  1.2  44.0     25286.0  Martin Ødegaard   \n",
       " 1   4.0  2.0    Leicester City  2.7  0.5  50.0     60033.0  Martin Ødegaard   \n",
       " 2   3.0  0.0       Bournemouth  1.3  0.3  57.0     10423.0  Martin Ødegaard   \n",
       " 3   2.0  1.0            Fulham  2.6  0.8  71.0     60164.0  Martin Ødegaard   \n",
       " 4   2.0  1.0       Aston Villa  2.4  0.4  59.0     60012.0  Martin Ødegaard   \n",
       " 5   1.0  3.0    Manchester Utd  1.3  1.5  60.0     73431.0  Martin Ødegaard   \n",
       " 6   2.0  1.0         ch Zürich  2.3  1.2  69.0     17070.0     Granit Xhaka   \n",
       " 7   NaN  NaN           Everton  NaN  NaN   NaN         NaN              NaN   \n",
       " 8   3.0  0.0         Brentford  1.5  0.5  63.0     17122.0     Granit Xhaka   \n",
       " 9   3.0  1.0         Tottenham  2.4  1.6  64.0     60278.0  Martin Ødegaard   \n",
       " 10  3.0  0.0     no Bodø/Glimt  3.4  0.8  50.0     59724.0     Granit Xhaka   \n",
       " 11  3.0  2.0         Liverpool  2.7  1.1  43.0     60059.0  Martin Ødegaard   \n",
       " 12  1.0  0.0     no Bodø/Glimt  0.7  0.5  55.0      7922.0  Martin Ødegaard   \n",
       " 13  1.0  0.0      Leeds United  0.5  1.8  53.0     36700.0  Martin Ødegaard   \n",
       " 14  1.0  0.0  nl PSV Eindhoven  2.7  0.3  62.0     52200.0     Granit Xhaka   \n",
       " 15  1.0  1.0       Southampton  1.0  0.7  59.0     31145.0  Martin Ødegaard   \n",
       " 16  0.0  2.0  nl PSV Eindhoven  1.4  0.8  68.0     35000.0  Martin Ødegaard   \n",
       " 17  5.0  0.0   Nott'ham Forest  2.3  0.4  69.0     60263.0  Martin Ødegaard   \n",
       " 18  1.0  0.0         ch Zürich  1.6  0.4  55.0     48500.0    Gabriel Jesus   \n",
       " 19  1.0  0.0           Chelsea  2.1  0.3  55.0     40142.0  Martin Ødegaard   \n",
       " 20  1.0  3.0          Brighton  NaN  NaN  57.0     59233.0      Rob Holding   \n",
       " 21  2.0  0.0            Wolves  2.1  0.7  62.0     34624.0  Martin Ødegaard   \n",
       " 22  NaN  NaN          West Ham  NaN  NaN   NaN         NaN              NaN   \n",
       " 23  NaN  NaN          Brighton  NaN  NaN   NaN         NaN              NaN   \n",
       " 24  NaN  NaN     Newcastle Utd  NaN  NaN   NaN         NaN              NaN   \n",
       " 25  NaN  NaN     Oxford United  NaN  NaN   NaN         NaN              NaN   \n",
       " 26  NaN  NaN         Tottenham  NaN  NaN   NaN         NaN              NaN   \n",
       " 27  NaN  NaN    Manchester Utd  NaN  NaN   NaN         NaN              NaN   \n",
       " 28  NaN  NaN           Everton  NaN  NaN   NaN         NaN              NaN   \n",
       " 29  NaN  NaN         Brentford  NaN  NaN   NaN         NaN              NaN   \n",
       " 30  NaN  NaN   Manchester City  NaN  NaN   NaN         NaN              NaN   \n",
       " 31  NaN  NaN       Aston Villa  NaN  NaN   NaN         NaN              NaN   \n",
       " 32  NaN  NaN    Leicester City  NaN  NaN   NaN         NaN              NaN   \n",
       " 33  NaN  NaN       Bournemouth  NaN  NaN   NaN         NaN              NaN   \n",
       " 34  NaN  NaN            Fulham  NaN  NaN   NaN         NaN              NaN   \n",
       " 35  NaN  NaN    Crystal Palace  NaN  NaN   NaN         NaN              NaN   \n",
       " 36  NaN  NaN      Leeds United  NaN  NaN   NaN         NaN              NaN   \n",
       " 37  NaN  NaN         Liverpool  NaN  NaN   NaN         NaN              NaN   \n",
       " 38  NaN  NaN          West Ham  NaN  NaN   NaN         NaN              NaN   \n",
       " 39  NaN  NaN       Southampton  NaN  NaN   NaN         NaN              NaN   \n",
       " 40  NaN  NaN   Manchester City  NaN  NaN   NaN         NaN              NaN   \n",
       " 41  NaN  NaN           Chelsea  NaN  NaN   NaN         NaN              NaN   \n",
       " 42  NaN  NaN     Newcastle Utd  NaN  NaN   NaN         NaN              NaN   \n",
       " 43  NaN  NaN          Brighton  NaN  NaN   NaN         NaN              NaN   \n",
       " 44  NaN  NaN   Nott'ham Forest  NaN  NaN   NaN         NaN              NaN   \n",
       " 45  NaN  NaN            Wolves  NaN  NaN   NaN         NaN              NaN   \n",
       " \n",
       "    Formation              Referee  Match Report            Notes  \n",
       " 0      4-3-3       Anthony Taylor  Match Report              NaN  \n",
       " 1      4-3-3       Darren England  Match Report              NaN  \n",
       " 2      4-3-3         Craig Pawson  Match Report              NaN  \n",
       " 3      4-3-3       Jarred Gillett  Match Report              NaN  \n",
       " 4      4-3-3         Robert Jones  Match Report              NaN  \n",
       " 5      4-3-3         Paul Tierney  Match Report              NaN  \n",
       " 6      4-3-3    Mohammed Al Hakim  Match Report              NaN  \n",
       " 7        NaN                  NaN           NaN  Match Postponed  \n",
       " 8      4-3-3          David Coote  Match Report              NaN  \n",
       " 9      4-3-3       Anthony Taylor  Match Report              NaN  \n",
       " 10     4-3-3          Harm Osmers  Match Report              NaN  \n",
       " 11     4-3-3       Michael Oliver  Match Report              NaN  \n",
       " 12     4-3-3         Irfan Peljto  Match Report              NaN  \n",
       " 13     4-3-3       Chris Kavanagh  Match Report              NaN  \n",
       " 14     4-3-3  Alejandro Hernández  Match Report              NaN  \n",
       " 15     4-3-3         Robert Jones  Match Report              NaN  \n",
       " 16     4-3-3       Marco Di Bello  Match Report              NaN  \n",
       " 17     4-3-3         Simon Hooper  Match Report              NaN  \n",
       " 18     4-3-3      Erik Lambrechts  Match Report              NaN  \n",
       " 19     4-3-3       Michael Oliver  Match Report              NaN  \n",
       " 20   4-2-3-1       Jarred Gillett  Match Report              NaN  \n",
       " 21     4-3-3       Stuart Attwell  Match Report              NaN  \n",
       " 22       NaN                  NaN  Head-to-Head              NaN  \n",
       " 23       NaN                  NaN  Head-to-Head              NaN  \n",
       " 24       NaN                  NaN  Head-to-Head              NaN  \n",
       " 25       NaN                  NaN  Head-to-Head              NaN  \n",
       " 26       NaN                  NaN  Head-to-Head              NaN  \n",
       " 27       NaN                  NaN  Head-to-Head              NaN  \n",
       " 28       NaN                  NaN  Head-to-Head              NaN  \n",
       " 29       NaN                  NaN  Head-to-Head              NaN  \n",
       " 30       NaN                  NaN  Head-to-Head              NaN  \n",
       " 31       NaN                  NaN  Head-to-Head              NaN  \n",
       " 32       NaN                  NaN  Head-to-Head              NaN  \n",
       " 33       NaN                  NaN  Head-to-Head              NaN  \n",
       " 34       NaN                  NaN  Head-to-Head              NaN  \n",
       " 35       NaN                  NaN  Head-to-Head              NaN  \n",
       " 36       NaN                  NaN  Head-to-Head              NaN  \n",
       " 37       NaN                  NaN  Head-to-Head              NaN  \n",
       " 38       NaN                  NaN  Head-to-Head              NaN  \n",
       " 39       NaN                  NaN  Head-to-Head              NaN  \n",
       " 40       NaN                  NaN  Head-to-Head              NaN  \n",
       " 41       NaN                  NaN  Head-to-Head              NaN  \n",
       " 42       NaN                  NaN  Head-to-Head              NaN  \n",
       " 43       NaN                  NaN  Head-to-Head              NaN  \n",
       " 44       NaN                  NaN  Head-to-Head              NaN  \n",
       " 45       NaN                  NaN  Head-to-Head              NaN  ]"
      ]
     },
     "execution_count": 15,
     "metadata": {},
     "output_type": "execute_result"
    }
   ],
   "source": [
    "matches"
   ]
  }
 ],
 "metadata": {
  "kernelspec": {
   "display_name": "Python 3 (ipykernel)",
   "language": "python",
   "name": "python3"
  },
  "language_info": {
   "codemirror_mode": {
    "name": "ipython",
    "version": 3
   },
   "file_extension": ".py",
   "mimetype": "text/x-python",
   "name": "python",
   "nbconvert_exporter": "python",
   "pygments_lexer": "ipython3",
   "version": "3.9.15"
  }
 },
 "nbformat": 4,
 "nbformat_minor": 5
}
